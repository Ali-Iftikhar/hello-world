{
  "nbformat": 4,
  "nbformat_minor": 0,
  "metadata": {
    "colab": {
      "name": "challenge1.ipynb",
      "provenance": [],
      "collapsed_sections": [],
      "authorship_tag": "ABX9TyMwKXZscL+NfTyGPQmmUKMG",
      "include_colab_link": true
    },
    "kernelspec": {
      "name": "python3",
      "display_name": "Python 3"
    }
  },
  "cells": [
    {
      "cell_type": "markdown",
      "metadata": {
        "id": "view-in-github",
        "colab_type": "text"
      },
      "source": [
        "<a href=\"https://colab.research.google.com/github/Ali-Iftikhar/hello-world/blob/master/challenge1.ipynb\" target=\"_parent\"><img src=\"https://colab.research.google.com/assets/colab-badge.svg\" alt=\"Open In Colab\"/></a>"
      ]
    },
    {
      "cell_type": "code",
      "metadata": {
        "id": "He80C0QP4P9K",
        "colab_type": "code",
        "colab": {}
      },
      "source": [
        "import numpy as np"
      ],
      "execution_count": 0,
      "outputs": []
    },
    {
      "cell_type": "code",
      "metadata": {
        "id": "FI8AGq_p4zK3",
        "colab_type": "code",
        "colab": {
          "base_uri": "https://localhost:8080/",
          "height": 34
        },
        "outputId": "77fe2cb0-ac49-44e2-b8be-12d7a2680bb4"
      },
      "source": [
        "xxx = np.random.randint(low=1, high=10, size=10)\n",
        "print(xxx)"
      ],
      "execution_count": 3,
      "outputs": [
        {
          "output_type": "stream",
          "text": [
            "[7 1 5 8 8 3 5 5 9 1]\n"
          ],
          "name": "stdout"
        }
      ]
    },
    {
      "cell_type": "code",
      "metadata": {
        "id": "oukCI3O85i2U",
        "colab_type": "code",
        "colab": {
          "base_uri": "https://localhost:8080/",
          "height": 34
        },
        "outputId": "8845881f-6bd4-498b-ac5c-1750031ac8d4"
      },
      "source": [
        "xx = np.random.choice(10, 10, replace=False)\n",
        "print(xx)"
      ],
      "execution_count": 4,
      "outputs": [
        {
          "output_type": "stream",
          "text": [
            "[4 3 7 0 8 6 9 2 1 5]\n"
          ],
          "name": "stdout"
        }
      ]
    },
    {
      "cell_type": "code",
      "metadata": {
        "id": "WudDXsYa5u-t",
        "colab_type": "code",
        "colab": {
          "base_uri": "https://localhost:8080/",
          "height": 34
        },
        "outputId": "5f47e312-8a80-4cda-f3e2-f5e276f777f1"
      },
      "source": [
        "x = np.array([4, 3, 7, 10, 8, 6, 9, 2, 1, 5])\n",
        "print(x)"
      ],
      "execution_count": 6,
      "outputs": [
        {
          "output_type": "stream",
          "text": [
            "[ 4  3  7 10  8  6  9  2  1  5]\n"
          ],
          "name": "stdout"
        }
      ]
    },
    {
      "cell_type": "code",
      "metadata": {
        "id": "S_WAq5A57F9S",
        "colab_type": "code",
        "colab": {
          "base_uri": "https://localhost:8080/",
          "height": 68
        },
        "outputId": "7b82b494-ad45-40e8-a64e-7d156c235846"
      },
      "source": [
        "pay = np.zeros(len(x))\n",
        "print(pay)\n",
        "for i in range(len(x)):\n",
        "  if i == 0:\n",
        "    pay[i] = x[i]\n",
        "  else: \n",
        "    pay[i] = abs(x[i] - x[i-1])\n",
        "\n",
        "print(pay)\n",
        "\n",
        "mean10 = np.mean(pay)\n",
        "print(mean10)"
      ],
      "execution_count": 12,
      "outputs": [
        {
          "output_type": "stream",
          "text": [
            "[0. 0. 0. 0. 0. 0. 0. 0. 0. 0.]\n",
            "[4. 1. 4. 3. 2. 2. 3. 7. 1. 4.]\n",
            "3.1\n"
          ],
          "name": "stdout"
        }
      ]
    },
    {
      "cell_type": "code",
      "metadata": {
        "id": "4zV_PjeJ9Yuw",
        "colab_type": "code",
        "colab": {
          "base_uri": "https://localhost:8080/",
          "height": 34
        },
        "outputId": "91a9e6eb-ca85-486f-e6b5-e1de8d8fa8e6"
      },
      "source": [
        "yyy = np.random.choice(20, 20, replace=False)\n",
        "print(yyy)"
      ],
      "execution_count": 17,
      "outputs": [
        {
          "output_type": "stream",
          "text": [
            "[18  1  2  8  4  9  3 10  6  5  7 19 17  0 14 11 15 12 13 16]\n"
          ],
          "name": "stdout"
        }
      ]
    },
    {
      "cell_type": "code",
      "metadata": {
        "id": "Et83UUTD9fNB",
        "colab_type": "code",
        "colab": {
          "base_uri": "https://localhost:8080/",
          "height": 34
        },
        "outputId": "40c128cf-0b09-4be0-cb8c-987cffad17f2"
      },
      "source": [
        "y = np.array([18,  1,  2,  8,  4,  9,  3, 10,  6,  5,  7, 19, 17,  20, 14, 11, 15, 12, 13, 16])\n",
        "print(y)"
      ],
      "execution_count": 18,
      "outputs": [
        {
          "output_type": "stream",
          "text": [
            "[18  1  2  8  4  9  3 10  6  5  7 19 17 20 14 11 15 12 13 16]\n"
          ],
          "name": "stdout"
        }
      ]
    },
    {
      "cell_type": "code",
      "metadata": {
        "id": "-0y27LCi98mY",
        "colab_type": "code",
        "colab": {
          "base_uri": "https://localhost:8080/",
          "height": 85
        },
        "outputId": "884fc308-1815-42d0-ed2a-6ab5bed16112"
      },
      "source": [
        "pay20 = np.zeros(len(y))\n",
        "print(pay20)\n",
        "for i in range(len(y)):\n",
        "  if i == 0:\n",
        "    pay20[i] = y[i]\n",
        "  else: \n",
        "    pay20[i] = abs(y[i] - y[i-1])\n",
        "\n",
        "print(pay20)\n",
        "\n",
        "mean20 = np.mean(pay20)\n",
        "print(mean20)"
      ],
      "execution_count": 19,
      "outputs": [
        {
          "output_type": "stream",
          "text": [
            "[0. 0. 0. 0. 0. 0. 0. 0. 0. 0. 0. 0. 0. 0. 0. 0. 0. 0. 0. 0.]\n",
            "[18. 17.  1.  6.  4.  5.  6.  7.  4.  1.  2. 12.  2.  3.  6.  3.  4.  3.\n",
            "  1.  3.]\n",
            "5.4\n"
          ],
          "name": "stdout"
        }
      ]
    },
    {
      "cell_type": "code",
      "metadata": {
        "id": "u_uq520eArGY",
        "colab_type": "code",
        "colab": {
          "base_uri": "https://localhost:8080/",
          "height": 34
        },
        "outputId": "ea53b4ff-0c69-4b16-d98d-5ac861644c4d"
      },
      "source": [
        "std20 = np.std(pay20)\n",
        "print(std20)"
      ],
      "execution_count": 21,
      "outputs": [
        {
          "output_type": "stream",
          "text": [
            "4.747630988187687\n"
          ],
          "name": "stdout"
        }
      ]
    },
    {
      "cell_type": "code",
      "metadata": {
        "colab_type": "code",
        "outputId": "fd2d1005-d274-4a97-c57c-dc5b1c4a015b",
        "id": "Zo1r3dGiBHpB",
        "colab": {
          "base_uri": "https://localhost:8080/",
          "height": 34
        }
      },
      "source": [
        "std10 = np.std(pay)\n",
        "print(std10)"
      ],
      "execution_count": 22,
      "outputs": [
        {
          "output_type": "stream",
          "text": [
            "1.7\n"
          ],
          "name": "stdout"
        }
      ]
    }
  ]
}